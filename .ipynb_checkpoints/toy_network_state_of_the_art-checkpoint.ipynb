{
 "cells": [
  {
   "cell_type": "code",
   "execution_count": null,
   "metadata": {
    "collapsed": true
   },
   "outputs": [],
   "source": [
    "# version Fri 20:00"
   ]
  },
  {
   "cell_type": "markdown",
   "metadata": {},
   "source": [
    "## Implementation of the \"Toy Network\"\n",
    "as presented in the paper \"Opening the black box of...\" (2017) by Schwartz-Ziv and Tishby.  \n",
    "Includes:\n",
    "- the training process  \n",
    "- plotting functions for evaluation of the training error, training accuracy and test accuracy  \n",
    "- functions for calculation of the Mutual Information"
   ]
  },
  {
   "cell_type": "code",
   "execution_count": null,
   "metadata": {
    "collapsed": true
   },
   "outputs": [],
   "source": []
  },
  {
   "cell_type": "markdown",
   "metadata": {},
   "source": [
    "# Import Datasets"
   ]
  },
  {
   "cell_type": "markdown",
   "metadata": {},
   "source": [
    "### Directories and filenames:\n",
    "    \n",
    "- data_folder: folder containing the input data for the network, file names listed in dataset_file\n",
    "- dataset_file: list of strings; file names of input data, list of 3:\n",
    "  - configs.npy: input x, configurations\n",
    "  - lables.npy: labels y\n",
    "  - labels64.npy: \"wrong orbit\" labels, i.e. labels assigning the configurations to classes 0-63;\n",
    "    used in MI calculation\n",
    "- save_folder: list of strings; paths to destination directories for saving code output, that is accuracy and session data\n",
    "- model_file: file names of the model files (i.e. all network parameters) saved in every epoch \n",
    "        \n",
    "### Variables:\n",
    "\n",
    "- configs: input configurations x, loaded from file configs.npy, num_configs $\\times$ 12 array\n",
    "- num_configs: number of input configurations in configs\n",
    "- labels: input labels y, loaded from file lables.npy as num_configs $\\times$ 1 array; then converted to 1-hot format, num_configs $\\times$ 2 array\n",
    "- num_train_configs: number of training configurations, used to partition the sets of configs and labels\n",
    "- configs_train: training configurations, num_train_configs $\\times$ 12 array\n",
    "- configs_test: test configurations, (num_configs-num_train_configs) $\\times$ 12 array\n",
    "- labels_train: train labels, num_train_configs $\\times$ 2 array\n",
    "- labels_test: test labels, (num_configs-num_train_configs) $\\times$ 2 array\n",
    "\n",
    "### Code blocks:\n",
    "\n",
    "###### Define data directories and filenames\n",
    "for the input and output\n",
    "\n",
    "##### Import data\n",
    "input data is loaded from files configs.npy, labels.npy into arrays configs, labels  \n",
    "labels are converted from scalar to 1-hot vector ( $y=0$ --> $(0,1)$ and $y=1$ --> $(1,0)$ )  \n",
    "\n",
    "##### Partition input data in training and test set\n",
    "input data is partitioned randomly into  \n",
    "training set (arrays configs_train, labels_train; num_train_configs configurations)  \n",
    "and test set (arrays configs_test, labels_test; num_configs-num_train_configs configurations)  \n",
    "num_train_configs has to be set; here it is 3400, i.e. 83% of num_configs"
   ]
  },
  {
   "cell_type": "code",
   "execution_count": 1,
   "metadata": {
    "collapsed": true
   },
   "outputs": [],
   "source": [
    "from __future__ import absolute_import\n",
    "from __future__ import division\n",
    "from __future__ import print_function\n",
    "\n",
    "import tensorflow as tf\n",
    "import numpy as np\n",
    "import matplotlib.pyplot as plt\n",
    "\n",
    "import argparse\n",
    "import sys\n",
    "import os\n",
    "import random\n",
    "\n",
    "random.seed(111)"
   ]
  },
  {
   "cell_type": "code",
   "execution_count": 2,
   "metadata": {
    "collapsed": true
   },
   "outputs": [],
   "source": [
    "##### ----- Define data directories and filenames ---- #####\n",
    "data_folder = \"toy_dataset/\"\n",
    "save_folder = [\"model_data/accuracy_data/\", \"model_data/session_data/\"]\n",
    "\n",
    "for f in save_folder:\n",
    "    if not os.path.exists(data_folder+f):\n",
    "        os.makedirs(data_folder+f)\n",
    "\n",
    "dataset_file = [\"configs.npy\", \"labels.npy\", \"labels64.npy\"]\n",
    "model_file = lambda i=\"\": data_folder+save_folder[1]+\"toy_network_model_{}.ckpt\".format(i)\n",
    "\n",
    "##### ----- Import data ---- #####\n",
    "configs = np.load(data_folder+dataset_file[0])\n",
    "num_configs = len(configs)\n",
    "labels = np.empty([num_configs,2])\n",
    "labels[:,0] = np.load(data_folder+dataset_file[1])\n",
    "\n",
    "# convert labels into 1-hot representation\n",
    "labels[labels[:,0]==0, 1]=1  # y=0 --> (0,1)\n",
    "labels[labels[:,0]==1, 1]=0  # y=1 --> (1,0)\n",
    "    \n",
    "##### ----- Partition input data in training and test set ---- #####\n",
    "# we choose the training set to be about 83% of the entire data set\n",
    "num_train_configs = 3400\n",
    "train_indices = random.sample(range(num_configs), num_train_configs)\n",
    "test_indices = [ x for x in range(num_configs) if x not in train_indices]\n",
    "\n",
    "configs_train = np.array( [configs[i] for i in train_indices] )\n",
    "configs_test = np.array( [configs[i] for i in test_indices] )\n",
    "labels_train = np.array( [labels[i] for i in train_indices] )\n",
    "labels_test = np.array( [labels[i] for i in test_indices] )"
   ]
  },
  {
   "cell_type": "code",
   "execution_count": 3,
   "metadata": {
    "collapsed": true
   },
   "outputs": [],
   "source": [
    "# Initialize Model"
   ]
  },
  {
   "cell_type": "code",
   "execution_count": 4,
   "metadata": {
    "collapsed": true
   },
   "outputs": [],
   "source": [
    "##### ----- Build the network ---- #####\n",
    "n_units = [12,10,7,5,4,3,2] # number of units in each layer, starting from the input layer\n",
    "num_layers = len(n_units)\n",
    "\n",
    "x = tf.placeholder(tf.float32, [None, n_units[0]])\n",
    "W   = [None for i in range(num_layers-1)]\n",
    "b   = [None for i in range(num_layers-1)]\n",
    "out = [None for i in range(num_layers-1)]\n",
    "\n",
    "for i in range(len(W)):\n",
    "    W[i] = tf.Variable(tf.truncated_normal([n_units[i], n_units[i+1]], stddev=0.1))\n",
    "    b[i] = tf.Variable(tf.truncated_normal([n_units[i+1]], stddev=0.1))\n",
    "\n",
    "    if i==0: #first layer\n",
    "        out[i] = tf.tanh( tf.matmul(x, W[i]) + b[i] )\n",
    "    elif i<(len(W)-1):\n",
    "        out[i] = tf.tanh( tf.matmul(out[i-1], W[i]) + b[i] )\n",
    "    else: #output layer\n",
    "        out[i] = tf.matmul(out[i-1], W[i])+b[i]\n",
    "        y = out[i]\n",
    "\n",
    "# Define loss and optimizer\n",
    "y_ = tf.placeholder(tf.float32,[None,2]) # for the _true_ labels\n",
    "cross_entropy = tf.reduce_mean(tf.nn.sigmoid_cross_entropy_with_logits(labels=y_, logits=y))  # Calculate the cross entropy (this tells us whether our network is actually learning)#\n",
    "correct_prediction = tf.equal(tf.argmax(y, 1), tf.argmax(y_, 1))\n",
    "accuracy = tf.reduce_mean(tf.cast(correct_prediction, tf.float32))\n",
    "\n",
    "# Traing instructions\n",
    "global_step = tf.Variable(0, trainable=False)\n",
    "starter_learning_rate = 2.5\n",
    "learning_rate = tf.train.exponential_decay(starter_learning_rate, global_step, 10000, 0.96, staircase=True)\n",
    "train_step = tf.train.GradientDescentOptimizer(learning_rate).minimize(cross_entropy)\n",
    "\n",
    "# Initialize training session\n",
    "sess = tf.InteractiveSession()\n",
    "tf.global_variables_initializer().run()\n",
    "\n",
    "num_epochs = 10\n",
    "saver = tf.train.Saver(max_to_keep=None)  # add ops to save and restore all the variables"
   ]
  },
  {
   "cell_type": "code",
   "execution_count": 5,
   "metadata": {
    "collapsed": true
   },
   "outputs": [],
   "source": [
    "# Training"
   ]
  },
  {
   "cell_type": "code",
   "execution_count": null,
   "metadata": {
    "collapsed": true
   },
   "outputs": [],
   "source": [
    "# Training parameters\n",
    "minibatch_size = 25\n",
    "\n",
    "# Define arrays to collect accuracy and error data during training\n",
    "err_list  = np.zeros(num_epochs)\n",
    "train_acc = np.zeros(num_epochs)\n",
    "test_acc = []\n",
    "\n",
    "permut = np.arange(num_train_configs) # index array for data shuffling   \n",
    "for epoch in range(num_epochs):\n",
    "    # save the variables to disk\n",
    "    my_path = \"/Users/annagolubeva/Desktop/Information_Bottleneck/sess_data/\"\n",
    "    save_path = saver.save(sess, my_path+\"toy_network_model_{}.ckpt\".format(epoch))\n",
    "\n",
    "    # Randomly shuffle the data set for each epoch\n",
    "    np.random.shuffle(permut) \n",
    "    train_configs = configs_train[permut,:]\n",
    "    train_labels = labels_train[permut,:]\n",
    "    \n",
    "    for k in range(0, num_train_configs, minibatch_size):\n",
    "        batch_xs = train_configs[k:k+minibatch_size,:]\n",
    "        batch_ys = train_labels[k:k+minibatch_size,:]\n",
    "        sess.run(train_step, feed_dict={x: batch_xs, y_: batch_ys})\n",
    "        # Record one value of training accuracy and cross entropy in each epoch\n",
    "        if k==minibatch_size:\n",
    "            train_acc[epoch] = accuracy.eval(feed_dict={x: batch_xs, y_: batch_ys})   \n",
    "            err_list[epoch] = sess.run(cross_entropy, feed_dict={x: batch_xs, y_: batch_ys})\n",
    "    # Record the test accuracy for every 10th epoch\n",
    "    if epoch%10==0:\n",
    "        test_acc += [sess.run(accuracy, feed_dict={x: configs_test, y_: labels_test})]\n",
    "    \n",
    "    # Save the variables to disk every epoch\n",
    "    #save_path = saver.save(sess, model_file(epoch+1))\n",
    "    #print(\"Model saved in file: %s\" % model_file(epoch+1))\n",
    "        \n",
    "#print('Test Accuracy: ',sess.run(accuracy, feed_dict={x: configs_test, y_: labels_test}))        \n",
    "        \n",
    "# save arrays with accuracy and error data\n",
    "#np.savez_compressed(data_folder+save_folder[0]+'{}epochs_train_acc'.format(num_epochs), a=train_acc)\n",
    "#np.savez_compressed(data_folder+save_folder[0]+'{}epochs_test_acc'.format(num_epochs), a=test_acc)\n",
    "#np.savez_compressed(data_folder+save_folder[0]+'{}epochs_err_list'.format(num_epochs), a=err_list)\n",
    "np.savez_compressed(my_path+'{}epochs_train_acc'.format(num_epochs), a=train_acc)\n",
    "np.savez_compressed(my_path+'{}epochs_test_acc'.format(num_epochs), a=test_acc)\n",
    "np.savez_compressed(my_path+'{}epochs_err_list'.format(num_epochs), a=err_list)"
   ]
  },
  {
   "cell_type": "code",
   "execution_count": null,
   "metadata": {
    "collapsed": true
   },
   "outputs": [],
   "source": [
    "# Plot"
   ]
  },
  {
   "cell_type": "code",
   "execution_count": null,
   "metadata": {},
   "outputs": [],
   "source": [
    "%matplotlib inline\n",
    "import matplotlib.pyplot as plt\n",
    "\n",
    "# load the data\n",
    "#err_list = np.load(data_folder+save_folder[0]+'{}epochs_err_list.npz'.format(num_epochs))['a']\n",
    "#train_acc = np.load(data_folder+save_folder[0]+'{}epochs_train_acc.npz'.format(num_epochs))['a']\n",
    "#test_acc = np.load(data_folder+save_folder[0]+'{}epochs_test_acc.npz'.format(num_epochs))['a']\n",
    "\n",
    "err_list = np.load(my_path+'{}epochs_err_list.npz'.format(num_epochs))['a']\n",
    "train_acc = np.load(my_path+'{}epochs_train_acc.npz'.format(num_epochs))['a']\n",
    "test_acc = np.load(my_path+'{}epochs_test_acc.npz'.format(num_epochs))['a']\n",
    "\n",
    "plt.figure(figsize=(15,4))\n",
    "plt.subplot(1,3,1)\n",
    "plt.plot(np.arange(num_epochs/10), err_list[::10], color='r')\n",
    "plt.title('Cross Entropy')\n",
    "plt.ylabel('Cross Entropy')\n",
    "plt.xlabel('Epoch/10')\n",
    "plt.ylim([0.3, 1.1])\n",
    "\n",
    "\n",
    "plt.subplot(1,3,2)\n",
    "plt.plot(np.arange(num_epochs/10), train_acc[::10], color='b')\n",
    "plt.title('Training Accuracy')\n",
    "plt.ylabel('Training Accuracy')\n",
    "plt.xlabel('Epoch/10')\n",
    "plt.ylim([0, 1])\n",
    "\n",
    "plt.subplot(1,3,3)\n",
    "plt.plot(np.arange(num_epochs/10), test_acc, color='g')\n",
    "plt.title('Test Accuracy')\n",
    "plt.ylabel('Test Accuracy')\n",
    "plt.xlabel('Epoch/10')\n",
    "plt.ylim([0, 1])\n",
    "\n",
    "print(\"minibatch size = %d\" %minibatch_size)\n",
    "print(\"number of epochs = %d\" %num_epochs)\n",
    "print(\"test accuracy in final epoch = %f\" %test_acc[-1])\n",
    "\n",
    "plt.savefig(my_path+'Toy_dataset_minibatch-size_25_larger_starter-learning-rate_{}epochs.png'.format(num_epochs), dpi=200, bbox_inches = 'tight')"
   ]
  },
  {
   "cell_type": "markdown",
   "metadata": {},
   "source": [
    "# Mutual Information Calculation"
   ]
  },
  {
   "cell_type": "markdown",
   "metadata": {},
   "source": [
    "### Variables:\n",
    "- p_tx: probability of the representation $t_x$, rows $\\times$ cols array\n",
    "- delta_tx: matrix representing the Kronecker delta for $t_x$, $t_{x'}$\n",
    "- I_TX: $I(X;T)$\n",
    "- I_TY: $I(Y;T)$\n",
    "- prob_joint_X_binaryY: $p(x,y)$\n",
    "- prob_t_x: $p(t_x)$\n",
    "\n",
    "### Class: MutInfo\n",
    "defines everything required to calculate the MI I(X;T) and I(Y;T) for a given dataset {X,Y,T}\n",
    "\n",
    "### Attributes:\n",
    "n_bins: number of bins, used for coarsening the representation t (layer output), default 1000\n",
    "dataset_file: file label64.npy containing f(x), i.e. the \"64 orbit\" labels\n",
    "\n",
    "### Methods:\n",
    "\n",
    "__init__(self, n_bins=1000, dataset_file=data_folder+dataset_file[2]):\n",
    "    input: number of bins n_bins, file containing f(x) (i.e. the \"64 orbit\" labels for all configurations x)\n",
    "    return: none\n",
    "    attributes:\n",
    "        n_bins: number of bins\n",
    "        dataset_file: file containing f(x) (i.e. the \"64 orbit\" labels for all configurations x)\n",
    "        prob_joint_X_binaryY(): p(x,y)\n",
    "        \n",
    "prob_joint_X_binaryY(self):\n",
    "    input: none\n",
    "    return: none\n",
    "    \n",
    "    internal functions:\n",
    "    py_x(u, gamma=30.5, theta=34):\n",
    "        input: u=f(x), function of the input pattern x;\n",
    "               predefined (according to section 3.1 of the paper):\n",
    "               theta=34: treshold parameter\n",
    "               gamma=30.5: sigmoidal gain\n",
    "        return: py_x = p(y=1|x)\n",
    "        \n",
    "        variables:\n",
    "            Nx: number of examples (configurations) in the dataset\n",
    "        methods:\n",
    "            fx: f(x), \"64 orbit\" labels (0-63) for each configuration x, loaded from file label64.npy, 4096 $\\times$ 1\n",
    "            p_x: p(x), uniform (since each x from X is equiprobable), Nx $\\times$ 1\n",
    "            p_xy: p(x,y), calculated using p(x,y)=p(y|x)p(x), for y=0 (col 0) and y=1 (col 1); Nx $\\times$ 2\n",
    "\n",
    "prob_t_x(self, t, n_bins):\n",
    "    input: representation t, number of bins n_bins\n",
    "    return:\n",
    "        p(t_x): probability for each representation vector t_x, number_of_unique_t $\\times$ 1\n",
    "        incidence matrix\n",
    "        \n",
    "    variables:\n",
    "        bins: array with n_bins elements, equidistantly distributed on the interval [-1,1]; n_bins $\\times$ 1\n",
    "        _, indices, counts: outputs of np.unique, see explanation below\n",
    "        delta: incidence matrix representing KroneckerDelta(t_x,t_x')\n",
    "        \n",
    "    usage of np.unique (general explanation):\n",
    "        unique_elems, indices, counts = np.unique(t_vectors, return_counts=True, return_inverse=True, axis=0)\n",
    "        unique_elems: list of elements from input t_vectors, duplicates removed, ordered\n",
    "        counts: number of occurences for each element in the unique_elems\n",
    "        indices: provide mapping from index in t_vectors to index in unique_elems and counts,\n",
    "                 i.e. t_vectors[i] = unique_elems[index[i]],\n",
    "                 and\n",
    "                 \"count of representation t_vectors[i]\" = counts[indices[i]]\n",
    "                 (that is number of occurences of t_vectors[i] in t_vectors)\n",
    "        "
   ]
  },
  {
   "cell_type": "code",
   "execution_count": 6,
   "metadata": {
    "collapsed": true
   },
   "outputs": [],
   "source": [
    "# Calculate MI for input X, output Y, layers T\n",
    "\n",
    "class MutInfo(object):\n",
    "    \"\"\"Class to compute I(X;T) and I(Y;T) given a dataset {X, Y, T}.\"\"\"\n",
    "    \n",
    "    def __init__(self, n_bins=30, dataset_file=data_folder+dataset_file[2]):\n",
    "        \n",
    "        # mut_info method will be called with layer output t:\n",
    "        # t: (Nx \\times n_t) array\n",
    "        # n_t: number of units in layer\n",
    "        # Nx: |X|, same as num_configs, number of examples\n",
    "        \n",
    "        # Define number of bins\n",
    "        self.n_bins = n_bins\n",
    "        \n",
    "        # Calculate global p(x,y), p(x), |X|\n",
    "        self.dataset_file = dataset_file\n",
    "        self.prob_joint_X_binaryY()\n",
    "        \n",
    "        return\n",
    "  \n",
    "\n",
    "    def prob_joint_X_binaryY(self):\n",
    "        \"\"\"Calculates p_xy = p(x,y).\"\"\"\n",
    "        \n",
    "        def py_x(u, gamma=30.5, theta=34):\n",
    "            \"\"\"Calculates p(y=1|x), defined as sigmoid(u-theta), with\n",
    "            u=f(x): (\"spherical\") function of the input pattern x,\n",
    "            theta: treshold parameter,\n",
    "            gamma: sigmoidal gain parameter.\"\"\"\n",
    "            return 1.0/(1.0 + np.exp(-gamma*(u-theta)))\n",
    "\n",
    "        # Determine the number of examples (configurations) in the dataset\n",
    "        fx = np.load(self.dataset_file).astype(np.float)\n",
    "        self.Nx = np.size(fx)\n",
    "        \n",
    "        # Calculate p(x) - each x from X is equiprobable\n",
    "        self.p_x = np.ones(self.Nx)*1/self.Nx\n",
    "\n",
    "        # Calculate p(x,y), using p(x,y)=p(y|x)p(x), for y=0 and y=1\n",
    "        self.p_xy = np.array([(1-py_x(fx))*self.p_x, py_x(fx)*self.p_x])\n",
    "        \n",
    "        return \n",
    "    \n",
    "    \n",
    "    def prob_t_x(self, t, n_bins):\n",
    "        \"\"\"Computes p(t_x) and KroneckerDelta(t_x, t_x') (as incidence matrix).\"\"\"\n",
    "\n",
    "        bins = np.linspace(-1, 1, n_bins) # bins for t\n",
    "        \n",
    "        # Count appearances of each vector t (after elements of t are binned/rounded) and record indices\n",
    "        _, indices, counts = np.unique(np.digitize(t, bins), \n",
    "                                       return_inverse=True, \n",
    "                                       return_counts=True, axis=0)\n",
    "        \n",
    "        # Create incidence matrix KroneckerDelta(t_x,t_x') using indices\n",
    "        delta = (np.array([indices,]*len(indices)).T == indices).astype(np.int)\n",
    "        \n",
    "        # Return p(t_x), KroneckerDelta(t_x,t_x')\n",
    "        return counts[indices]/self.Nx, delta\n",
    "    \n",
    "    \n",
    "    def mut_info(self, t):\n",
    "        \"\"\"Compute MI I(X;T) and I(Y;T) for given layer output t.\"\"\"\n",
    "        \n",
    "        # Compute p(t_x) and KroneckerDelta(t_x,t_x')\n",
    "        p_tx, delta_tx = self.prob_t_x(t, n_bins = self.n_bins)      \n",
    "        \n",
    "        # Calculate I(T;Y) and I(X;T)\n",
    "        # p_xy: Ny(=2 for binary) \\times Nx array\n",
    "        # p_tx: Nx \\times 1 array   \n",
    "        # delta_tx: Nx \\times Nx array\n",
    "        # p_x: Nx \\times 1 array\n",
    "   \n",
    "        # I(T;Y) = \\sum_y \\sum_x p(x,y) * log2{ [\\sum_x' p(x',y) delta(t_x,t_x')] / [p(y)p(t_x)] }\n",
    "        I_TY = np.nansum(self.p_xy*\n",
    "                         np.log2( np.dot(self.p_xy, delta_tx)/\n",
    "                         np.sum(self.p_xy, 1)[:, np.newaxis]/p_tx) )\n",
    "    \n",
    "        # I(X;T) = -p_x \\sum_x log2( p(t_x) )\n",
    "        I_TX = -np.dot( self.p_x, np.log2(p_tx) )\n",
    "        \n",
    "        return [I_TX, I_TY]\n",
    "    "
   ]
  },
  {
   "cell_type": "markdown",
   "metadata": {},
   "source": [
    "# Plot in the Information Plane"
   ]
  },
  {
   "cell_type": "code",
   "execution_count": 7,
   "metadata": {
    "collapsed": true
   },
   "outputs": [],
   "source": [
    "def info_plane(num_epochs,num_layers, model_file, dataset_file, n_bins = 1000, plot=False):\n",
    "    # Plot MI for each layer from saved epoch data\n",
    "    \n",
    "    # Initialize MI\n",
    "    m = MutInfo(n_bins=n_bins, dataset_file=dataset_file)\n",
    "    I = np.empty([num_layers-1, 2, num_epochs])\n",
    "    \n",
    "    # Plotting properties\n",
    "    colormap = plt.cm.gist_ncar\n",
    "    plt.gca().set_color_cycle([colormap(i) for i in np.linspace(0, 0.9, num_epochs)])\n",
    "    \n",
    "    # Perform MI calculation [I(X,T), I(Y,T)] for each layer, once per epoch\n",
    "    for epoch in range(num_epochs):\n",
    "        # Import each epoch session file\n",
    "        saver.restore(sess, model_file(epoch+1))\n",
    "\n",
    "        for i, layer_out in enumerate(out):\n",
    "            I[i,:,epoch] = m.mut_info(layer_out.eval(feed_dict={x: configs}))\n",
    "    \n",
    "    # Save data\n",
    "    np.save('MI_XTY_{}epochs'.format(num_epochs), I, allow_pickle=False)\n",
    "    \n",
    "    # Plot in the Information Plane\n",
    "    if plot:\n",
    "        for epoch in range(num_epochs):\n",
    "            plt.plot(I[:,0,epoch], I[:,1,epoch], '-*', label='Epoch '+str(epoch))\n",
    "            plt.legend(loc=2, numpoints=1, prop={'size': 6})\n",
    "            plt.xlabel('I(X;T)')\n",
    "            plt.ylabel('I(T;Y)')\n",
    "        plt.show()"
   ]
  },
  {
   "cell_type": "markdown",
   "metadata": {},
   "source": [
    "# Initialize Model"
   ]
  },
  {
   "cell_type": "code",
   "execution_count": null,
   "metadata": {
    "collapsed": true
   },
   "outputs": [],
   "source": []
  },
  {
   "cell_type": "markdown",
   "metadata": {},
   "source": [
    "# Retrieve saved models and calculate MI"
   ]
  },
  {
   "cell_type": "code",
   "execution_count": 8,
   "metadata": {},
   "outputs": [
    {
     "name": "stdout",
     "output_type": "stream",
     "text": [
      "INFO:tensorflow:Restoring parameters from toy_dataset/model_data/session_data/toy_network_model_1.ckpt\n"
     ]
    },
    {
     "name": "stderr",
     "output_type": "stream",
     "text": [
      "/Users/annagolubeva/anaconda/lib/python2.7/site-packages/matplotlib/cbook.py:137: MatplotlibDeprecationWarning: The set_color_cycle attribute was deprecated in version 1.5. Use set_prop_cycle instead.\n",
      "  warnings.warn(message, mplDeprecation, stacklevel=1)\n"
     ]
    },
    {
     "name": "stdout",
     "output_type": "stream",
     "text": [
      "INFO:tensorflow:Restoring parameters from toy_dataset/model_data/session_data/toy_network_model_2.ckpt\n",
      "INFO:tensorflow:Restoring parameters from toy_dataset/model_data/session_data/toy_network_model_3.ckpt\n",
      "INFO:tensorflow:Restoring parameters from toy_dataset/model_data/session_data/toy_network_model_4.ckpt\n",
      "INFO:tensorflow:Restoring parameters from toy_dataset/model_data/session_data/toy_network_model_5.ckpt\n",
      "INFO:tensorflow:Restoring parameters from toy_dataset/model_data/session_data/toy_network_model_6.ckpt\n",
      "INFO:tensorflow:Restoring parameters from toy_dataset/model_data/session_data/toy_network_model_7.ckpt\n",
      "INFO:tensorflow:Restoring parameters from toy_dataset/model_data/session_data/toy_network_model_8.ckpt\n",
      "INFO:tensorflow:Restoring parameters from toy_dataset/model_data/session_data/toy_network_model_9.ckpt\n",
      "INFO:tensorflow:Restoring parameters from toy_dataset/model_data/session_data/toy_network_model_10.ckpt\n"
     ]
    },
    {
     "data": {
      "image/png": "[encoded data removed]",
      "text/plain": [
       "<matplotlib.figure.Figure at 0x11f11f210>"
      ]
     },
     "metadata": {},
     "output_type": "display_data"
    }
   ],
   "source": [
    "# Calculate MI from loaded data\n",
    "n_bins = 30 # number of bins used to coarsen t for the MI calculation\n",
    "\n",
    "%matplotlib inline\n",
    "info_plane(num_epochs, num_layers, model_file, data_folder+dataset_file[2], n_bins, plot=True)\n",
    "\n",
    "##### debugging variable_XX not found: tf.get_collection(tf.GraphKeys.GLOBAL_VARIABLES) ######"
   ]
  },
  {
   "cell_type": "markdown",
   "metadata": {},
   "source": [
    "# Training"
   ]
  },
  {
   "cell_type": "code",
   "execution_count": null,
   "metadata": {
    "collapsed": true
   },
   "outputs": [],
   "source": []
  },
  {
   "cell_type": "markdown",
   "metadata": {},
   "source": [
    "# Plot Accuracy and Error Data"
   ]
  },
  {
   "cell_type": "code",
   "execution_count": null,
   "metadata": {
    "collapsed": true
   },
   "outputs": [],
   "source": []
  },
  {
   "cell_type": "code",
   "execution_count": null,
   "metadata": {
    "collapsed": true
   },
   "outputs": [],
   "source": []
  },
  {
   "cell_type": "code",
   "execution_count": null,
   "metadata": {
    "collapsed": true
   },
   "outputs": [],
   "source": []
  },
  {
   "cell_type": "code",
   "execution_count": null,
   "metadata": {
    "collapsed": true
   },
   "outputs": [],
   "source": []
  },
  {
   "cell_type": "code",
   "execution_count": null,
   "metadata": {
    "collapsed": true
   },
   "outputs": [],
   "source": []
  },
  {
   "cell_type": "code",
   "execution_count": null,
   "metadata": {
    "collapsed": true
   },
   "outputs": [],
   "source": [
    "\n",
    "\n",
    "\n",
    "\n",
    "\n",
    "\n",
    "        "
   ]
  }
 ],
 "metadata": {
  "anaconda-cloud": {},
  "kernelspec": {
   "display_name": "Python [conda root]",
   "language": "python",
   "name": "conda-root-py"
  },
  "language_info": {
   "codemirror_mode": {
    "name": "ipython",
    "version": 2
   },
   "file_extension": ".py",
   "mimetype": "text/x-python",
   "name": "python",
   "nbconvert_exporter": "python",
   "pygments_lexer": "ipython2",
   "version": "2.7.12"
  }
 },
 "nbformat": 4,
 "nbformat_minor": 2
}
