{
 "cells": [
  {
   "cell_type": "code",
   "execution_count": 19,
   "metadata": {},
   "outputs": [],
   "source": [
    "import tensorflow as tf\n",
    "import numpy as np\n",
    "from __future__ import absolute_import\n",
    "from __future__ import division\n",
    "from __future__ import print_function\n",
    "import argparse\n",
    "import sys\n",
    "import random\n",
    "import matplotlib.pyplot as plt\n",
    " "
   ]
  },
  {
   "cell_type": "code",
   "execution_count": 20,
   "metadata": {
    "collapsed": true
   },
   "outputs": [],
   "source": [
    "def weight_variable(shape):\n",
    "  initial = tf.truncated_normal(shape, stddev=0.1)\n",
    "  return tf.Variable(initial)"
   ]
  },
  {
   "cell_type": "code",
   "execution_count": 21,
   "metadata": {},
   "outputs": [],
   "source": [
    "# Preparing data\n",
    "configs = np.load('toy_dataset/configs.npy') # Load data\n",
    "labels = np.load('toy_dataset/LabelsCarlos.npy') #loads data\n",
    "num_configs=len(configs) # Total number of configurations\n",
    "\n",
    "num_train_configs=1600 # The percentage of configurations we're training with (85%) #\n",
    "train_indices= random.sample(range(num_configs),num_train_configs)\n",
    "test_indices=[n for n in range(num_configs) if n not in train_indices]\n",
    "\n",
    "# Configurations\n",
    "configs_train=np.array([configs[i] for i in train_indices])\n",
    "configs_test=np.array([configs[i] for i in test_indices])\n"
   ]
  },
  {
   "cell_type": "code",
   "execution_count": 22,
   "metadata": {},
   "outputs": [
    {
     "data": {
      "text/plain": [
       "(4096, 2)"
      ]
     },
     "execution_count": 22,
     "metadata": {},
     "output_type": "execute_result"
    }
   ],
   "source": [
    "np.shape(labels)\n",
    "\n"
   ]
  },
  {
   "cell_type": "code",
   "execution_count": 23,
   "metadata": {
    "collapsed": true
   },
   "outputs": [],
   "source": [
    "FLAGS = None\n",
    "    \n",
    "x = tf.placeholder(tf.float32, shape=[None, 12])\n",
    " \n",
    "W1=tf.Variable(tf.random_normal([12,10]))\n",
    "B1=tf.Variable(tf.random_normal([10]))\n",
    "y1=tf.nn.tanh(tf.matmul(x,W1)+B1)\n",
    "W2=tf.Variable(tf.random_normal([10,7]))\n",
    "B2=tf.Variable(tf.random_normal([7]))\n",
    "y2=tf.nn.tanh(tf.matmul(y1,W2)+B2)\n",
    "W3=tf.Variable(tf.random_normal([7,5]))\n",
    "B3=tf.Variable(tf.random_normal([5]))\n",
    "y3=tf.nn.tanh(tf.matmul(y2,W3)+B3)\n",
    "W4=tf.Variable(tf.random_normal([5,4]))\n",
    "B4=tf.Variable(tf.random_normal([4]))\n",
    "y4=tf.nn.tanh(tf.matmul(y3,W4)+B4)\n",
    "W5=tf.Variable(tf.random_normal([4,3]))\n",
    "B5=tf.Variable(tf.random_normal([3]))\n",
    "y5=tf.nn.tanh(tf.matmul(y4,W5)+B5)\n",
    "W6=tf.Variable(tf.random_normal([3,2]))\n",
    "B6=tf.Variable(tf.random_normal([2]))\n",
    "y=tf.matmul(y5,W6)+B6\n",
    "#we now put a placeholder to compute our cost function, the cross entropy\n",
    "y_=tf.placeholder(tf.float32,[None,2])\n",
    "\n"
   ]
  },
  {
   "cell_type": "markdown",
   "metadata": {},
   "source": [
    "# Code block"
   ]
  },
  {
   "cell_type": "code",
   "execution_count": 28,
   "metadata": {},
   "outputs": [],
   "source": [
    "# Training parameters\n",
    "minibatch_size = 20\n",
    "num_epochs = 500\n",
    "num_train_configs = 1200\n",
    "\n",
    "# Preparing data\n",
    "train_indices= random.sample(range(num_configs),num_train_configs)\n",
    "test_indices=[n for n in range(num_configs) if n not in train_indices]\n",
    "\n",
    "# Configurations\n",
    "configs_train=np.array([configs[i] for i in train_indices])\n",
    "configs_test=np.array([configs[i] for i in test_indices])\n",
    "\n",
    "\n",
    "# Labels\n",
    "\n",
    "theta = 34 # Threshold for dividing 64 \"orbits\" into two sets\n",
    "labels_train=np.array([labels[i] for i in train_indices])\n",
    "labels_test=np.array([labels[i] for i in test_indices])\n",
    "\n",
    "\n",
    "# Calculate the cross entropy (this tells us whether our network is actually learning)#\n",
    "cross_entropy = tf.reduce_mean(tf.nn.sigmoid_cross_entropy_with_logits(labels=y_, logits=y))\n",
    "correct_prediction = tf.equal(tf.argmax(tf.sigmoid(y), 1), tf.argmax(y_, 1))\n",
    "accuracy = tf.reduce_mean(tf.cast(correct_prediction, tf.float32))\n",
    "\n",
    "\n",
    "\n",
    "# Instructions on how to train our model\n",
    "train_step = tf.train.GradientDescentOptimizer(0.1).minimize(cross_entropy)\n",
    "\n",
    "# Begin training sessions\n",
    "sess = tf.InteractiveSession()\n",
    "tf.global_variables_initializer().run()\n",
    "    \n",
    "\n",
    "# reshuffle the data set in each epoch\n",
    "permut = np.arange(num_train_configs)\n",
    "\n",
    "\n",
    "for epoch in range(num_epochs):\n",
    "    np.random.shuffle(permut)\n",
    "    train_configs = configs_train[permut,:]\n",
    "    train_labels = labels_train[permut,:]\n",
    "    for k in np.arange(0, num_train_configs, minibatch_size):\n",
    "        batch_xs = train_configs[k:k+minibatch_size,:]\n",
    "        batch_ys = train_labels[k:k+minibatch_size,:]\n",
    "        sess.run(train_step, feed_dict={x: batch_xs, y_: batch_ys})\n",
    "        "
   ]
  },
  {
   "cell_type": "code",
   "execution_count": 29,
   "metadata": {},
   "outputs": [
    {
     "name": "stdout",
     "output_type": "stream",
     "text": [
      "0.8680939\n"
     ]
    }
   ],
   "source": [
    "print(sess.run(accuracy, feed_dict={x: configs_test, y_: labels_test}))"
   ]
  },
  {
   "cell_type": "code",
   "execution_count": null,
   "metadata": {
    "collapsed": true
   },
   "outputs": [],
   "source": []
  }
 ],
 "metadata": {
  "kernelspec": {
   "display_name": "Python 3",
   "language": "python",
   "name": "python3"
  },
  "language_info": {
   "codemirror_mode": {
    "name": "ipython",
    "version": 3
   },
   "file_extension": ".py",
   "mimetype": "text/x-python",
   "name": "python",
   "nbconvert_exporter": "python",
   "pygments_lexer": "ipython3",
   "version": "3.6.3"
  }
 },
 "nbformat": 4,
 "nbformat_minor": 2
}
