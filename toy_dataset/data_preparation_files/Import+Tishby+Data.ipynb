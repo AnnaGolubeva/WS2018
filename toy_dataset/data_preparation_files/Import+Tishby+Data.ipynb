{
 "cells": [
  {
   "cell_type": "code",
   "execution_count": null,
   "metadata": {
    "collapsed": true
   },
   "outputs": [],
   "source": [
    "##### ----- Import TISHBY data ---- #####\n",
    "import scipy.io as spio\n",
    "mat = spio.loadmat('tishby_data.mat')\n",
    "configs = mat['configs_tishby']\n",
    "num_configs = len(configs)\n",
    "labels_tishby = mat['labels_tishby']\n",
    "labels = np.empty([4096,2])\n",
    "labels[:,0] = labels_tishby;\n",
    "labels[:,1] = np.array([1-i for i in labels_tishby]);"
   ]
  }
 ],
 "metadata": {
  "kernelspec": {
   "display_name": "Python 3",
   "language": "python",
   "name": "python3"
  },
  "language_info": {
   "codemirror_mode": {
    "name": "ipython",
    "version": 3
   },
   "file_extension": ".py",
   "mimetype": "text/x-python",
   "name": "python",
   "nbconvert_exporter": "python",
   "pygments_lexer": "ipython3",
   "version": "3.6.2"
  }
 },
 "nbformat": 4,
 "nbformat_minor": 2
}
