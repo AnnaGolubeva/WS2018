{
 "cells": [
  {
   "cell_type": "markdown",
   "metadata": {},
   "source": [
    "## plotting the error (cross entropy), training and test accuracy for the toy network"
   ]
  },
  {
   "cell_type": "code",
   "execution_count": null,
   "metadata": {
    "collapsed": true
   },
   "outputs": [],
   "source": [
    "%matplotlib inline\n",
    "import matplotlib.pyplot as plt\n",
    "\n",
    "# specify the number of epochs that was used for training\n",
    "num_epochs = 100\n",
    "\n",
    "# load the data\n",
    "err_list = np.load('{}epochs_err_list.npz'.format(num_epochs))['a']\n",
    "train_acc = np.load('{}epochs_train_acc.npz'.format(num_epochs))['a']\n",
    "test_acc = np.load('{}epochs_test_acc.npz'.format(num_epochs))['a']\n",
    "\n",
    "# plot\n",
    "plt.figure(figsize=(15,4))\n",
    "plt.subplot(1,3,1)\n",
    "plt.plot(np.arange(num_epochs), err_list, color='r')\n",
    "plt.title('Cross Entropy')\n",
    "plt.ylabel('Cross Entropy')\n",
    "plt.xlabel('Epoch')\n",
    "plt.ylim([0.3, 1.1])\n",
    "\n",
    "plt.subplot(1,3,2)\n",
    "plt.plot(np.arange(num_epochs), train_acc, color='b')\n",
    "plt.title('Training Accuracy')\n",
    "plt.ylabel('Training Accuracy')\n",
    "plt.xlabel('Epoch')\n",
    "plt.ylim([-0.1, 1.1])\n",
    "\n",
    "plt.subplot(1,3,3)\n",
    "plt.plot(np.arange(num_epochs/10), test_acc, color='g')\n",
    "plt.title('Test Accuracy')\n",
    "plt.ylabel('Test Accuracy')\n",
    "plt.xlabel('Epoch/10')\n",
    "plt.ylim([0.3, 0.6])\n",
    "\n",
    "#plt.savefig('CNN_L{}_{}epochs_ErrBars_small_triplot.png'.format(L, num_epochs), dpi=200, bbox_inches = 'tight')"
   ]
  }
 ],
 "metadata": {
  "kernelspec": {
   "display_name": "Python [conda root]",
   "language": "python",
   "name": "conda-root-py"
  },
  "language_info": {
   "codemirror_mode": {
    "name": "ipython",
    "version": 2
   },
   "file_extension": ".py",
   "mimetype": "text/x-python",
   "name": "python",
   "nbconvert_exporter": "python",
   "pygments_lexer": "ipython2",
   "version": "2.7.12"
  }
 },
 "nbformat": 4,
 "nbformat_minor": 1
}
