{
 "cells": [
  {
   "cell_type": "markdown",
   "metadata": {},
   "source": [
    "# Toy Network\n",
    "### implementation of the fully-connected feed-forward network as specified in the paper (page 7, section 3.1) trained on the toy dataset of 4096 configurations of 12 bits"
   ]
  },
  {
   "cell_type": "code",
   "execution_count": 1,
   "metadata": {
    "collapsed": false
   },
   "outputs": [],
   "source": [
    "from __future__ import absolute_import\n",
    "from __future__ import division\n",
    "from __future__ import print_function\n",
    "\n",
    "import argparse\n",
    "import sys\n",
    "import random\n",
    "import numpy as np\n",
    "import tensorflow as tf\n",
    "\n",
    "# learning rate determines the step size in SGD\n",
    "#learning_rate = 0.4\n",
    "# fix the seed in order to get the same training set each time\n",
    "np.random.seed(111)\n",
    "\n",
    "# define a function for weight and bias initialization (random)\n",
    "def weight_variable(shape):\n",
    "    initial = tf.truncated_normal(shape, stddev=0.1)\n",
    "    return tf.Variable(initial)\n",
    "\n",
    "\n",
    "##### ----- Import data ---- #####\n",
    "configs = np.load('toy_dataset/configs.npy')\n",
    "num_configs = len(configs)\n",
    "labels = np.empty([num_configs,2])\n",
    "#labels[:,0] = np.load('toy_dataset/LabelsCarlos.npy')\n",
    "labels = np.load('toy_dataset/LabelsCarlos.npy')\n",
    "\n",
    "\n",
    "# convert labels into 1-hot representation\n",
    "# y=0 --> (1,0)\n",
    "# y=1 --> (0,1)\n",
    "#ind0 = (labels[:,0]==0)\n",
    "#ind1 = (labels[:,0]==1)\n",
    "#labels[ind0,:]=np.array([1,0])\n",
    "#labels[ind1,:]=np.array([0,1])\n",
    "    \n",
    "##### ----- Select training and test set ---- #####\n",
    "# we choose the training set to be about 85% of the entire data set\n",
    "num_train_configs = 3480\n",
    "train_indices = random.sample(range(num_configs),num_train_configs)\n",
    "test_indices = [ x for x in range(num_configs) if x not in train_indices]\n",
    "    \n",
    "configs_train = np.array( [configs[i] for i in train_indices] )\n",
    "configs_test = np.array( [configs[i] for i in test_indices] )\n",
    "labels_train = np.array( [labels[i] for i in train_indices] )\n",
    "labels_test = np.array( [labels[i] for i in test_indices] )\n",
    "\n",
    "\n",
    "##### ----- Create the model ---- #####\n",
    "    \n",
    "# input layer: 12 units\n",
    "x = tf.placeholder(tf.float32, [None, 12])\n",
    "    \n",
    "# 1st hidden layer: 10\n",
    "W1 = weight_variable([12, 10])\n",
    "b1 = weight_variable([10])\n",
    "y1 = tf.tanh(tf.matmul(x, W1) + b1)\n",
    "\n",
    "# 2nd hidden layer: 7\n",
    "W2 = weight_variable([10, 7])\n",
    "b2 = weight_variable([7])\n",
    "y2 = tf.tanh(tf.matmul(y1, W2) + b2)\n",
    "    \n",
    "# 3rd hidden layer: 5\n",
    "W3 = weight_variable([7, 5])\n",
    "b3 = weight_variable([5])\n",
    "y3 = tf.tanh(tf.matmul(y2, W3) + b3)\n",
    "    \n",
    "# 4th hidden layer: 4\n",
    "W4 = weight_variable([5, 4])\n",
    "b4 = weight_variable([4])\n",
    "y4 = tf.tanh(tf.matmul(y3, W4) + b4)\n",
    "    \n",
    "# 5th hidden layer: 3\n",
    "W5 = weight_variable([4, 3])\n",
    "b5 = weight_variable([3])\n",
    "y5 = tf.tanh(tf.matmul(y4, W5) + b5)\n",
    "    \n",
    "# output layer: 2\n",
    "W6 = weight_variable([3, 2])\n",
    "b6 = weight_variable([2])\n",
    "y = tf.matmul(y5, W6) + b6\n",
    "\n",
    "# define placeholder for true labels\n",
    "y_ = tf.placeholder(tf.float32, [None, 2])\n",
    "\n",
    "# define loss function and training procedure\n",
    "cross_entropy = tf.reduce_mean(\n",
    "    tf.nn.sigmoid_cross_entropy_with_logits(labels=y_, logits=y))\n",
    "#train_step = tf.train.GradientDescentOptimizer(learning_rate).minimize(cross_entropy)\n",
    "\n",
    "global_step = tf.Variable(0, trainable=False)\n",
    "starter_learning_rate = 1.2\n",
    "learning_rate = tf.train.exponential_decay(starter_learning_rate, global_step,\n",
    "                                          10000, 0.96, staircase=True)\n",
    "train_step = tf.train.GradientDescentOptimizer(learning_rate).minimize(cross_entropy,global_step=global_step)\n",
    "\n",
    "\n",
    "# start the session\n",
    "sess = tf.InteractiveSession()\n",
    "# initialize all variables defined above\n",
    "tf.global_variables_initializer().run()\n",
    "\n",
    "# define functions for testing of the trained model\n",
    "correct_prediction = tf.equal(tf.argmax(tf.sigmoid(y), 1), tf.argmax(y_, 1))\n",
    "accuracy = tf.reduce_mean(tf.cast(correct_prediction, tf.float32))\n",
    "\n",
    "\n",
    "# add ops to save and restore all the variables.\n",
    "saver = tf.train.Saver()\n",
    "\n",
    "##### ----- Train model ---- #####\n",
    "minibatch_size = 20\n",
    "num_epochs = 99\n",
    "# define arrays to collect accuracy and error data during training\n",
    "err_list  = np.zeros(num_epochs)\n",
    "train_acc = np.zeros(num_epochs)\n",
    "test_acc = []\n",
    "# create a permutation of indices to shuffle the data set in each epoch\n",
    "permut = np.arange(num_train_configs)\n",
    "\n",
    "for epoch in range(num_epochs):\n",
    "    # save the variables to disk\n",
    "    #save_path = saver.save(sess, \"/Users/annagolubeva/Desktop/Information_Bottleneck/toy_network_model_{}.ckpt\".format(epoch)\n",
    "    #print(\"Model saved in file: %s\" % save_path)\n",
    "    np.random.shuffle(permut)\n",
    "    train_configs = configs_train[permut,:]\n",
    "    train_labels = labels_train[permut,:]\n",
    "    for k in xrange(0, num_train_configs, minibatch_size):\n",
    "        batch_xs = train_configs[k:k+minibatch_size,:]\n",
    "        batch_ys = train_labels[k:k+minibatch_size,:]\n",
    "        sess.run(train_step, feed_dict={x: batch_xs, y_: batch_ys})\n",
    "        # for each epoch record one value of training accuracy and cross entropy\n",
    "        if k==minibatch_size:\n",
    "            train_acc[epoch] = accuracy.eval(feed_dict={x: batch_xs, y_: batch_ys})   \n",
    "            err_list[epoch] = sess.run(cross_entropy, feed_dict={x: batch_xs, y_: batch_ys})\n",
    "    # for every 10th epoch record the test accuracy\n",
    "    if epoch%10==0:\n",
    "        test_acc += [sess.run(accuracy, feed_dict={x: configs_test, y_: labels_test})]\n",
    "\n",
    "# save arrays with accuracy and error data\n",
    "np.savez_compressed('{}epochs_train_acc'.format(num_epochs), a=train_acc)\n",
    "np.savez_compressed('{}epochs_test_acc'.format(num_epochs), a=test_acc)\n",
    "np.savez_compressed('{}epochs_err_list'.format(num_epochs), a=err_list)"
   ]
  },
  {
   "cell_type": "code",
   "execution_count": null,
   "metadata": {
    "collapsed": false
   },
   "outputs": [],
   "source": [
    "#saver = tf.train.Saver()\n",
    "# Restore variables from disk.\n",
    "saver.restore(sess, \"/Users/annagolubeva/Desktop/Information_Bottleneck/toy_network_model.ckpt\")\n",
    "print(\"Model restored.\")"
   ]
  },
  {
   "cell_type": "code",
   "execution_count": null,
   "metadata": {
    "collapsed": false
   },
   "outputs": [],
   "source": [
    "# example:\n",
    "\n",
    "y2.eval(feed_dict={x: configs_test[0:1]})"
   ]
  },
  {
   "cell_type": "code",
   "execution_count": 2,
   "metadata": {
    "collapsed": false
   },
   "outputs": [
    {
     "data": {
      "text/plain": [
       "(0.3, 0.6)"
      ]
     },
     "execution_count": 2,
     "metadata": {},
     "output_type": "execute_result"
    },
    {
     "data": {
      "image/png": "[encoded data removed]",
      "text/plain": [
       "<matplotlib.figure.Figure at 0x1045e3bd0>"
      ]
     },
     "metadata": {},
     "output_type": "display_data"
    }
   ],
   "source": [
    "# plotting functions\n",
    "\n",
    "%matplotlib inline\n",
    "import matplotlib.pyplot as plt\n",
    "\n",
    "\n",
    "#num_epochs = 1000\n",
    "\n",
    "# load the data\n",
    "err_list = np.load('{}epochs_err_list.npz'.format(num_epochs))['a']\n",
    "train_acc = np.load('{}epochs_train_acc.npz'.format(num_epochs))['a']\n",
    "test_acc = np.load('{}epochs_test_acc.npz'.format(num_epochs))['a']\n",
    "\n",
    "plt.figure(figsize=(15,4))\n",
    "plt.subplot(1,3,1)\n",
    "plt.plot(np.arange(num_epochs), err_list, color='r')\n",
    "plt.title('Cross Entropy')\n",
    "plt.ylabel('Cross Entropy')\n",
    "plt.xlabel('Epoch')\n",
    "plt.ylim([0.3, 1.1])\n",
    "\n",
    "\n",
    "plt.subplot(1,3,2)\n",
    "plt.plot(np.arange(num_epochs), train_acc, color='b')\n",
    "plt.title('Training Accuracy')\n",
    "plt.ylabel('Training Accuracy')\n",
    "plt.xlabel('Epoch')\n",
    "plt.ylim([-0.1, 1.1])\n",
    "\n",
    "plt.subplot(1,3,3)\n",
    "plt.plot(np.arange(num_epochs/10), test_acc, color='g')\n",
    "plt.title('Test Accuracy')\n",
    "plt.ylabel('Test Accuracy')\n",
    "plt.xlabel('Epoch/10')\n",
    "plt.ylim([0.3, 0.6])\n",
    "\n",
    "#plt.savefig('CNN_L{}_{}epochs_ErrBars_small_triplot.png'.format(L, num_epochs), dpi=200, bbox_inches = 'tight')"
   ]
  },
  {
   "cell_type": "code",
   "execution_count": null,
   "metadata": {
    "collapsed": false
   },
   "outputs": [],
   "source": [
    "t = 2*np.random.random([10,1])-1"
   ]
  },
  {
   "cell_type": "code",
   "execution_count": null,
   "metadata": {
    "collapsed": false
   },
   "outputs": [],
   "source": [
    "t"
   ]
  },
  {
   "cell_type": "code",
   "execution_count": null,
   "metadata": {
    "collapsed": true
   },
   "outputs": [],
   "source": [
    "bins = np.linspace(-1,1,5)"
   ]
  },
  {
   "cell_type": "code",
   "execution_count": null,
   "metadata": {
    "collapsed": false
   },
   "outputs": [],
   "source": [
    "d = np.digitize(t, bins)"
   ]
  },
  {
   "cell_type": "code",
   "execution_count": null,
   "metadata": {
    "collapsed": false
   },
   "outputs": [],
   "source": [
    "d"
   ]
  },
  {
   "cell_type": "code",
   "execution_count": null,
   "metadata": {
    "collapsed": false
   },
   "outputs": [],
   "source": [
    "noneed, indices, counts = np.unique(d, return_inverse=True, return_counts=True, axis=0)"
   ]
  },
  {
   "cell_type": "code",
   "execution_count": null,
   "metadata": {
    "collapsed": false
   },
   "outputs": [],
   "source": [
    "noneed # list of elements from input d, duplicates removed, ordered"
   ]
  },
  {
   "cell_type": "code",
   "execution_count": null,
   "metadata": {
    "collapsed": false
   },
   "outputs": [],
   "source": [
    "indices # indices of counts to each element in input d, i.e. count of d[i] is counts[indices[i]]"
   ]
  },
  {
   "cell_type": "code",
   "execution_count": null,
   "metadata": {
    "collapsed": false
   },
   "outputs": [],
   "source": [
    "counts # number of occurences for each element in the unique list (ordered)"
   ]
  },
  {
   "cell_type": "code",
   "execution_count": null,
   "metadata": {
    "collapsed": true
   },
   "outputs": [],
   "source": [
    "# want: vector of indices of configs which have the same representation d[0] "
   ]
  },
  {
   "cell_type": "code",
   "execution_count": null,
   "metadata": {
    "collapsed": false
   },
   "outputs": [],
   "source": [
    "d==d[1]"
   ]
  },
  {
   "cell_type": "code",
   "execution_count": null,
   "metadata": {
    "collapsed": false
   },
   "outputs": [],
   "source": [
    "indices==indices[1]"
   ]
  },
  {
   "cell_type": "code",
   "execution_count": null,
   "metadata": {
    "collapsed": true
   },
   "outputs": [],
   "source": []
  },
  {
   "cell_type": "code",
   "execution_count": null,
   "metadata": {
    "collapsed": true
   },
   "outputs": [],
   "source": []
  }
 ],
 "metadata": {
  "anaconda-cloud": {},
  "kernelspec": {
   "display_name": "Python [conda root]",
   "language": "python",
   "name": "conda-root-py"
  },
  "language_info": {
   "codemirror_mode": {
    "name": "ipython",
    "version": 2
   },
   "file_extension": ".py",
   "mimetype": "text/x-python",
   "name": "python",
   "nbconvert_exporter": "python",
   "pygments_lexer": "ipython2",
   "version": "2.7.12"
  }
 },
 "nbformat": 4,
 "nbformat_minor": 1
}
