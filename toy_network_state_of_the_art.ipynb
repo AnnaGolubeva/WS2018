{
 "cells": [
  {
   "cell_type": "code",
   "execution_count": null,
   "metadata": {
    "collapsed": true
   },
   "outputs": [],
   "source": [
    "# version thu 19:22"
   ]
  },
  {
   "cell_type": "code",
   "execution_count": 1,
   "metadata": {
    "scrolled": true
   },
   "outputs": [],
   "source": [
    "import tensorflow as tf\n",
    "import numpy as np\n",
    "from __future__ import absolute_import\n",
    "from __future__ import division\n",
    "from __future__ import print_function\n",
    "import argparse\n",
    "import sys\n",
    "import random\n",
    "\n",
    "random.seed(111)"
   ]
  },
  {
   "cell_type": "code",
   "execution_count": 2,
   "metadata": {
    "collapsed": false
   },
   "outputs": [],
   "source": [
    "def weight_variable(shape):\n",
    "    initial = tf.truncated_normal(shape, stddev=0.1) # cuts off tails from normal distribution, keeps elements [-2,2] #\n",
    "    return tf.Variable(initial)\n",
    "\n",
    "##### ----- Data Directories ---- #####\n",
    "data_folder = \"network_data/\"\n",
    "dataset_file = [\"configs.npy\",\"labels.npy\",\"labels64.npy\"]\n",
    "model_file = \"toy_network_model.ckpt\"\n",
    "\n",
    "\n",
    "##### ----- Import data ---- #####\n",
    "configs = np.load(data_folder+dataset_file[0])\n",
    "num_configs = len(configs)\n",
    "labels = np.empty([num_configs,2])\n",
<<<<<<< HEAD
    "labels[:,0] = np.load(data_folder+dataset_file[1])"
=======
    "labels[:,0] = np.load('toy_dataset/labels.npy')\n",
    "#labels = np.load('toy_dataset/old_files/LabelsCarlos.npy')"
>>>>>>> f951df63f851c436c69551a4c0886aed17a5675d
   ]
  },
  {
   "cell_type": "code",
   "execution_count": 3,
   "metadata": {
    "collapsed": true
   },
   "outputs": [],
   "source": [
    "# convert labels into 1-hot representation\n",
    "# y=0 --> (1,0)\n",
    "# y=1 --> (0,1)\n",
    "ind0 = (labels[:,0]==0)\n",
    "ind1 = (labels[:,0]==1)\n",
    "labels[ind0,:]=np.array([1,0])\n",
    "labels[ind1,:]=np.array([0,1])\n",
    "    \n",
    "##### ----- Select training and test set ---- #####\n",
    "# we choose the training set to be about 85% of the entire data set\n",
    "num_train_configs = 3400\n",
    "train_indices = random.sample(range(num_configs),num_train_configs)\n",
    "test_indices = [ x for x in range(num_configs) if x not in train_indices]\n",
    "    \n",
    "configs_train = np.array( [configs[i] for i in train_indices] )\n",
    "configs_test = np.array( [configs[i] for i in test_indices] )\n",
    "labels_train = np.array( [labels[i] for i in train_indices] )\n",
    "labels_test = np.array( [labels[i] for i in test_indices] )"
   ]
  },
  {
   "cell_type": "code",
<<<<<<< HEAD
   "execution_count": null,
   "metadata": {},
=======
   "execution_count": 4,
   "metadata": {
    "collapsed": false
   },
>>>>>>> f951df63f851c436c69551a4c0886aed17a5675d
   "outputs": [],
   "source": [
    "##### ----- Create the model ---- #####\n",
    "    \n",
    "n_units = [12,10,7,5,4,3,2] # number of units in each layer, starting from the input layer\n",
    "num_layers = len(n_units)\n",
    "\n",
    "x = tf.placeholder(tf.float32, [None, n_units[0]])\n",
    "W   = [None for i in range(num_layers-1)]\n",
    "b   = [None for i in range(num_layers-1)]\n",
    "out = [None for i in range(num_layers-1)]\n",
    "\n",
    "for i in range(len(W)):\n",
    "    W[i] = tf.Variable(tf.truncated_normal([n_units[i], n_units[i+1]], stddev=0.1))\n",
    "    b[i] = tf.Variable(tf.truncated_normal([n_units[i+1]], stddev=0.1))\n",
    "\n",
    "    if i==0: #first layer\n",
    "        out[i] = tf.tanh( tf.matmul(x, W[i]) + b[i] )\n",
    "    elif i<(len(W)-1):\n",
    "        out[i] = tf.tanh( tf.matmul(out[i-1], W[i]) + b[i] )\n",
    "    else: #output layer\n",
    "        out[i] = tf.matmul(out[i-1], W[i])+b[i]\n",
    "        y = out[i]\n",
    "\n",
    "\n",
    "# define loss and optimizer\n",
    "y_ = tf.placeholder(tf.float32,[None,2])\n",
    "\n",
    "cross_entropy = tf.reduce_mean(tf.nn.sigmoid_cross_entropy_with_logits(labels=y_, logits=y))  # Calculate the cross entropy (this tells us whether our network is actually learning)#\n",
    "correct_prediction = tf.equal(tf.argmax(y, 1), tf.argmax(y_, 1))\n",
    "accuracy = tf.reduce_mean(tf.cast(correct_prediction, tf.float32))\n",
    "\n",
    "# instructions on how to train our model\n",
    "global_step = tf.Variable(0, trainable=False)\n",
    "starter_learning_rate = 2.6\n",
    "learning_rate = tf.train.exponential_decay(starter_learning_rate, global_step, 100000, 0.96, staircase=True)\n",
    "train_step = tf.train.GradientDescentOptimizer(learning_rate).minimize(cross_entropy)\n",
    "\n",
    "# begin training sessions\n",
    "sess = tf.InteractiveSession()\n",
    "tf.global_variables_initializer().run()\n",
    "\n",
    "# define functions for testing of the trained model\n",
    "correct_prediction = tf.equal(tf.argmax(tf.sigmoid(y), 1), tf.argmax(y_, 1))\n",
    "accuracy = tf.reduce_mean(tf.cast(correct_prediction, tf.float32))\n",
    "\n",
    "# add ops to save and restore all the variables\n",
    "saver = tf.train.Saver()\n",
    "\n",
    "# training parameters\n",
    "minibatch_size = 200     # \"batching\" the configuration is what introduces stochasticity into the network (this is a must!)#\n",
    "num_epochs = 10000          # how many times do we run through the process and let our network learn\n",
    "\n",
    "# define arrays to collect accuracy and error data during training\n",
    "err_list  = np.zeros(num_epochs)\n",
    "train_acc = np.zeros(num_epochs)\n",
    "test_acc = []\n",
    "\n",
    "# reshuffle the data set in each epoch\n",
    "permut = np.arange(num_train_configs)\n",
    "    \n",
    "for epoch in range(num_epochs):\n",
    "    # save the variables to disk\n",
    "    #save_path = saver.save(sess, \"/Users/annagolubeva/Desktop/Information_Bottleneck/toy_network_model_{}.ckpt\".format(epoch)\n",
    "    #print(\"Model saved in file: %s\" % save_path)\n",
    "    np.random.shuffle(permut)\n",
    "    train_configs = configs_train[permut,:]\n",
    "    train_labels = labels_train[permut,:]\n",
    "    for k in range(0, num_train_configs, minibatch_size):\n",
    "        batch_xs = train_configs[k:k+minibatch_size,:]\n",
    "        batch_ys = train_labels[k:k+minibatch_size,:]\n",
    "        sess.run(train_step, feed_dict={x: batch_xs, y_: batch_ys})\n",
    "        # for each epoch record one value of training accuracy and cross entropy\n",
    "        if k==minibatch_size:\n",
    "            train_acc[epoch] = accuracy.eval(feed_dict={x: batch_xs, y_: batch_ys})   \n",
    "            err_list[epoch] = sess.run(cross_entropy, feed_dict={x: batch_xs, y_: batch_ys})\n",
    "    # for every 10th epoch record the test accuracy\n",
    "    if epoch%10==0:\n",
    "        test_acc += [sess.run(accuracy, feed_dict={x: configs_test, y_: labels_test})]\n",
    "    \n",
    "    # Calculate Mutual Information for each Epoch\n",
    "    m.mut_info(out)\n",
    "\n",
    "# save arrays with accuracy and error data\n",
    "np.savez_compressed('{}epochs_train_acc'.format(num_epochs), a=train_acc)\n",
    "np.savez_compressed('{}epochs_test_acc'.format(num_epochs), a=test_acc)\n",
    "np.savez_compressed('{}epochs_err_list'.format(num_epochs), a=err_list)\n",
    "\n",
    "\n",
    "# save the variables to disk\n",
    "save_path = saver.save(sess,data_folder+model_file)\n",
    "print(\"Model saved in file: %s\" % data_folder+model_file)"
   ]
  },
  {
   "cell_type": "markdown",
   "metadata": {},
   "source": [
    "# Mutual Information Part"
   ]
  },
  {
   "cell_type": "code",
   "execution_count": 5,
   "metadata": {
    "collapsed": true
   },
   "outputs": [
    {
     "name": "stdout",
     "output_type": "stream",
     "text": [
      "minibatch size = 200\n",
      "number of epoches = 10000\n",
      "test accuracy final epoch = 0.692529\n"
     ]
    },
    {
     "data": {
      "image/png": "iVBORw0KGgoAAAANSUhEUgAABOAAAAGHCAYAAAAZci01AAAABHNCSVQICAgIfAhkiAAAAAlwSFlz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\n",
      "text/plain": [
       "<matplotlib.figure.Figure at 0x10ce8abd0>"
      ]
     },
     "metadata": {},
     "output_type": "display_data"
    }
   ],
   "source": [
    "# Import Session data for all Epochs"
   ]
  },
  {
   "cell_type": "code",
   "execution_count": null,
   "metadata": {
    "collapsed": true
   },
   "outputs": [],
   "source": [
    "# Calculate Mutual Information for Neural Network Input X, Output Y, Layers T\n",
    "\n",
    "# Restore variables from disk.\n",
    "saver.restore(sess, data_folder+model_file)\n",
    "print(\"Model restored.\")\n",
    "\n",
    "# Calculate Mutual Information for Neural Network Input X, Output Y, Layers T\n",
    "\n",
    "#######  datafolder+ dataset_file[2] = /path_to/\"labels64.npy\"  ###############\n",
    "\n",
    "class MUT_INFO(object):\n",
    "    def __init__(self, n_bins=1000, dataset_file=data_folder+dataset_file[2]):\n",
    "        \n",
    "        # Initialize Mutual Information Class for given dataset\n",
    "        # mut_info method will be called with layer output array:\n",
    "        #     t = (Nx by n_t) array, where Nx is the number of datasets, \n",
    "        #     and n_t is the number of neurons in the layer\n",
    "        \n",
    "        \n",
    "        # Define bin size\n",
    "        self.n_bins = n_bins\n",
    "        \n",
    "        \n",
    "        # Obtain constant p_xy distribution from dataset and calculate: \n",
    "        # p(x) and size of probability space: NX\n",
    "        self.p_xy = self.prob_joint_X_binaryY(dataset_file)\n",
    "        \n",
    "        return\n",
    "        \n",
    "    def mut_info(self,t):\n",
    "        # Estimate Mutual Information of between \n",
    "        # Random Variables (X,Y,T):    I(X,T) and I(Y,T)\n",
    "        \n",
    "        # Probability of p(t(x)) and delta(t(x),t(x'))\n",
    "        p_tx,delta_tx = self.prob_t_x(t,n_bins=self.n_bins)      \n",
    "        \n",
    "        # Calculate Mutual Information of I(T,Y) and I(T,X)\n",
    "        \n",
    "        I_TY = np.nansum(self.p_xy*(np.log2(np.dot(self.p_xy,delta_tx)/np.sum(self.p_xy,1)[:,np.newaxis]/p_tx)))\n",
    "    \n",
    "        I_TX = -np.dot(self.p_x,np.log2(p_tx))\n",
    "\n",
    "\n",
    "        return [I_TX, I_TY]\n",
    "        \n",
    "        \n",
    "    def prob_joint_X_binaryY(self,dataset_file):\n",
    "    \n",
    "        def py_x(u,gamma=30.5,theta=34):\n",
    "            return 1.0/(1.0 + np.exp(-gamma*(u-theta)))\n",
    "\n",
    "        # Import Original X Data and calculate size of Probability Space NX\n",
    "        X = np.load(dataset_file).astype(np.float)\n",
    "        self.NX = np.size(X)\n",
    "        \n",
    "        # Calculate p(x)\n",
    "        self.p_x = np.ones(self.NX)*1/self.NX\n",
    "        \n",
    "        \n",
    "        pyx = py_x(X) \n",
    "        #print('pyx sig: ',pyx)\n",
    "        \n",
    "        return np.array([(1-py_x(X))*self.p_x, py_x(X)*self.p_x])\n",
    "    \n",
    "    \n",
    "    \n",
    "\n",
    "    def prob_t_x(self,t, n_bins): # Thanks Lauren!\n",
    "        # Takes the layer's output t(x) and a number of bins\n",
    "        # Returns a probability p(t(x)) as a vector and a matrix for KroneckerDelta(t(x), t(x'))\n",
    "\n",
    "        # Define bins\n",
    "        bins = np.linspace(-1, 1, n_bins)\n",
    "        \n",
    "        # Count number of appearance of each vector\n",
    "        _, indices, counts= np.unique(np.digitize(t, bins), \n",
    "                                return_inverse=True, return_counts=True, axis=0)\n",
    "        \n",
    "        # Create delta matrix from indices\n",
    "        delta = (np.array([indices,] * len(indices)).T == indices).astype(np.int)\n",
    "        \n",
    "        # Return p(t_x), delta\n",
    "        return counts[indices]/self.NX, delta\n",
    "\n",
    "\n",
    "\n",
    "# m = MUT_INFO()\n",
    "# print(m.mut_info(t4))"
   ]
  },
  {
   "cell_type": "markdown",
   "metadata": {},
   "source": [
    "# plotting part"
   ]
  },
  {
   "cell_type": "code",
   "execution_count": null,
   "metadata": {},
   "outputs": [],
   "source": [
    "%matplotlib inline\n",
    "import matplotlib.pyplot as plt\n",
    "\n",
    "# load the data\n",
    "err_list = np.load('{}epochs_err_list.npz'.format(num_epochs))['a']\n",
    "train_acc = np.load('{}epochs_train_acc.npz'.format(num_epochs))['a']\n",
    "test_acc = np.load('{}epochs_test_acc.npz'.format(num_epochs))['a']\n",
    "\n",
    "plt.figure(figsize=(15,4))\n",
    "plt.subplot(1,3,1)\n",
    "plt.plot(np.arange(num_epochs), err_list, color='r')\n",
    "plt.title('Cross Entropy')\n",
    "plt.ylabel('Cross Entropy')\n",
    "plt.xlabel('Epoch')\n",
    "plt.ylim([0.3, 1.1])\n",
    "\n",
    "\n",
    "plt.subplot(1,3,2)\n",
    "plt.plot(np.arange(num_epochs), train_acc, color='b')\n",
    "plt.title('Training Accuracy')\n",
    "plt.ylabel('Training Accuracy')\n",
    "plt.xlabel('Epoch')\n",
    "plt.ylim([-0.1, 1.1])\n",
    "\n",
    "plt.subplot(1,3,3)\n",
    "plt.plot(np.arange(num_epochs/10), test_acc, color='g')\n",
    "plt.title('Test Accuracy')\n",
    "plt.ylabel('Test Accuracy')\n",
    "plt.xlabel('Epoch/10')\n",
    "plt.ylim([0.3, 1.1])\n",
    "\n",
    "print(\"minibatch size = %d\" %minibatch_size)\n",
    "print(\"number of epoches = %d\" %num_epochs)\n",
    "print(\"test accuracy final epoch = %f\" %test_acc[-1])"
   ]
  },
  {
   "cell_type": "code",
   "execution_count": null,
   "metadata": {},
   "outputs": [],
   "source": [
    "correct_prediction = tf.equal(tf.argmax(tf.sigmoid(y), 1), tf.argmax(y_, 1))\n",
    "accuracy = tf.reduce_mean(tf.cast(correct_prediction, tf.float32))\n",
    "print(sess.run(accuracy, feed_dict={x: configs_test, y_: labels_test}))"
   ]
  },
  {
   "cell_type": "code",
   "execution_count": null,
   "metadata": {
    "collapsed": true
   },
   "outputs": [],
   "source": []
  }
 ],
 "metadata": {
  "anaconda-cloud": {},
  "kernelspec": {
   "display_name": "Python [conda root]",
   "language": "python",
   "name": "conda-root-py"
  },
  "language_info": {
   "codemirror_mode": {
    "name": "ipython",
    "version": 3
   },
   "file_extension": ".py",
   "mimetype": "text/x-python",
   "name": "python",
   "nbconvert_exporter": "python",
   "pygments_lexer": "ipython3",
   "version": "3.5.2"
  }
 },
 "nbformat": 4,
 "nbformat_minor": 2
}
