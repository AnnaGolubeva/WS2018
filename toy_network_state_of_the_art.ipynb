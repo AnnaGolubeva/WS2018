{
 "cells": [
  {
   "cell_type": "code",
   "execution_count": 1,
   "metadata": {
    "collapsed": true
   },
   "outputs": [],
   "source": [
    "# version Fri 10:00"
   ]
  },
  {
   "cell_type": "markdown",
   "metadata": {},
   "source": [
    "# Import Data Part"
   ]
  },
  {
   "cell_type": "code",
   "execution_count": 35,
   "metadata": {},
   "outputs": [
    {
     "name": "stdout",
     "output_type": "stream",
     "text": [
      "None\n"
     ]
    }
   ],
   "source": [
    "import tensorflow as tf\n",
    "import numpy as np\n",
    "import matplotlib.pyplot as plt\n",
    "from matplotlib import markers\n",
    "from __future__ import absolute_import\n",
    "from __future__ import division\n",
    "from __future__ import print_function\n",
    "import argparse\n",
    "import sys\n",
    "import random\n",
    "\n",
    "marks = markers.MarkerStyle.markers.keys()\n",
    "#print(marks)\n",
    "random.seed(111)"
   ]
  },
  {
   "cell_type": "code",
   "execution_count": 57,
   "metadata": {
    "collapsed": true
   },
   "outputs": [],
   "source": [
    "def weight_variable(shape):\n",
    "    initial = tf.truncated_normal(shape, stddev=0.1) # cuts off tails from normal distribution, keeps elements [-2,2] #\n",
    "    return tf.Variable(initial)\n",
    "\n",
    "##### ----- Data Directories ---- #####\n",
    "data_folder = \"toy_dataset/\"\n",
    "save_folder = [\"model_data/accuracy_data/\",\"model_data/session_data/\"]\n",
    "dataset_file = [\"configs.npy\",\"labels.npy\",\"labels64.npy\"]\n",
    "model_file = lambda i=\"\": \"toy_network_model_{}.ckpt\".format(i)\n",
    "#epoch_sess_file = lambda i: model_file.split('.')[0]+'_'+'{}'.format(i)+'.'+model_file.split('.')[0]\n",
    "\n",
    "\n",
    "##### ----- Import data ---- #####\n",
    "configs = np.load(data_folder+dataset_file[0])\n",
    "num_configs = len(configs)\n",
    "labels = np.empty([num_configs,2])\n",
    "labels[:,0] = np.load(data_folder+dataset_file[1])"
   ]
  },
  {
   "cell_type": "code",
   "execution_count": 4,
   "metadata": {
    "collapsed": true
   },
   "outputs": [],
   "source": [
    "# convert labels into 1-hot representation\n",
    "# y=0 --> (1,0)\n",
    "# y=1 --> (0,1)\n",
    "ind0 = (labels[:,0]==0)\n",
    "ind1 = (labels[:,0]==1)\n",
    "labels[ind0,:]=np.array([1,0])\n",
    "labels[ind1,:]=np.array([0,1])\n",
    "    \n",
    "##### ----- Select training and test set ---- #####\n",
    "# we choose the training set to be about 85% of the entire data set\n",
    "num_train_configs = 3400\n",
    "train_indices = random.sample(range(num_configs),num_train_configs)\n",
    "test_indices = [ x for x in range(num_configs) if x not in train_indices]\n",
    "    \n",
    "configs_train = np.array( [configs[i] for i in train_indices] )\n",
    "configs_test = np.array( [configs[i] for i in test_indices] )\n",
    "labels_train = np.array( [labels[i] for i in train_indices] )\n",
    "labels_test = np.array( [labels[i] for i in test_indices] )"
   ]
  },
  {
   "cell_type": "markdown",
   "metadata": {},
   "source": [
    "# Training Model Part"
   ]
  },
  {
   "cell_type": "code",
   "execution_count": 58,
   "metadata": {},
   "outputs": [
    {
     "name": "stdout",
     "output_type": "stream",
     "text": [
      "Model saved in file: toy_dataset/model_data/session_data/toy_network_model_1.ckpt\n",
      "Test Accuracy:  0.5301724\n"
     ]
    }
   ],
   "source": [
    "##### ----- Create the model ---- #####\n",
    "    \n",
    "n_units = [12,10,7,5,4,3,2] # number of units in each layer, starting from the input layer\n",
    "num_layers = len(n_units)\n",
    "\n",
    "x = tf.placeholder(tf.float32, [None, n_units[0]])\n",
    "W   = [None for i in range(num_layers-1)]\n",
    "b   = [None for i in range(num_layers-1)]\n",
    "out = [None for i in range(num_layers-1)]\n",
    "\n",
    "for i in range(len(W)):\n",
    "    W[i] = tf.Variable(tf.truncated_normal([n_units[i], n_units[i+1]], stddev=0.1))\n",
    "    b[i] = tf.Variable(tf.truncated_normal([n_units[i+1]], stddev=0.1))\n",
    "\n",
    "    if i==0: #first layer\n",
    "        out[i] = tf.tanh( tf.matmul(x, W[i]) + b[i] )\n",
    "    elif i<(len(W)-1):\n",
    "        out[i] = tf.tanh( tf.matmul(out[i-1], W[i]) + b[i] )\n",
    "    else: #output layer\n",
    "        out[i] = tf.matmul(out[i-1], W[i])+b[i]\n",
    "        y = out[i]\n",
    "\n",
    "# define loss and optimizer\n",
    "y_ = tf.placeholder(tf.float32,[None,2])\n",
    "\n",
    "cross_entropy = tf.reduce_mean(tf.nn.sigmoid_cross_entropy_with_logits(labels=y_, logits=y))  # Calculate the cross entropy (this tells us whether our network is actually learning)#\n",
    "correct_prediction = tf.equal(tf.argmax(y, 1), tf.argmax(y_, 1))\n",
    "accuracy = tf.reduce_mean(tf.cast(correct_prediction, tf.float32))\n",
    "\n",
    "# instructions on how to train our model\n",
    "global_step = tf.Variable(0, trainable=False)\n",
    "starter_learning_rate = 1.6\n",
    "learning_rate = tf.train.exponential_decay(starter_learning_rate, global_step, 10000, 0.96, staircase=True)\n",
    "train_step = tf.train.GradientDescentOptimizer(learning_rate).minimize(cross_entropy)\n",
    "\n",
    "# begin training sessions\n",
    "sess = tf.InteractiveSession()\n",
    "tf.global_variables_initializer().run()\n",
    "\n",
    "# define functions for testing of the trained model\n",
    "correct_prediction = tf.equal(tf.argmax(tf.sigmoid(y), 1), tf.argmax(y_, 1))\n",
    "accuracy = tf.reduce_mean(tf.cast(correct_prediction, tf.float32))\n",
    "\n",
    "# add ops to save and restore all the variables\n",
    "saver = tf.train.Saver()\n",
    "\n",
    "# training parameters\n",
    "minibatch_size = 20     # \"batching\" the configuration is what introduces stochasticity into the network (this is a must!)#\n",
    "num_epochs = 1          # how many times do we run through the process and let our network learn\n",
    "\n",
    "\n",
    "\n",
    "# define arrays to collect accuracy and error data during training\n",
    "err_list  = np.zeros(num_epochs)\n",
    "train_acc = np.zeros(num_epochs)\n",
    "test_acc = []\n",
    "\n",
    "# reshuffle the data set in each epoch\n",
    "permut = np.arange(num_train_configs)\n",
    "\n",
    "# Initialize Mutual Information\n",
    "m = MUT_INFO(n_bins=1000, dataset_file=data_folder+dataset_file[2])\n",
    "I = np.empty([num_layers-1,2,num_epochs])\n",
    "    \n",
    "for epoch in range(num_epochs):\n",
    "    # save the variables to disk\n",
    "    #save_path = saver.save(sess, \"/Users/annagolubeva/Desktop/Information_Bottleneck/toy_network_model_{}.ckpt\".format(epoch)\n",
    "    #print(\"Model saved in file: %s\" % save_path)\n",
    "    np.random.shuffle(permut)\n",
    "    train_configs = configs_train[permut,:]\n",
    "    train_labels = labels_train[permut,:]\n",
    "    for k in range(0, num_train_configs, minibatch_size):\n",
    "        batch_xs = train_configs[k:k+minibatch_size,:]\n",
    "        batch_ys = train_labels[k:k+minibatch_size,:]\n",
    "        sess.run(train_step, feed_dict={x: batch_xs, y_: batch_ys})\n",
    "        # for each epoch record one value of training accuracy and cross entropy\n",
    "        if k==minibatch_size:\n",
    "            train_acc[epoch] = accuracy.eval(feed_dict={x: batch_xs, y_: batch_ys})   \n",
    "            err_list[epoch] = sess.run(cross_entropy, feed_dict={x: batch_xs, y_: batch_ys})\n",
    "    # for every 10th epoch record the test accuracy\n",
    "    if epoch%10==0:\n",
    "        test_acc += [sess.run(accuracy, feed_dict={x: configs_test, y_: labels_test})]\n",
    "    \n",
    "    # save the variables to disk each epoch\n",
    "    save_path = saver.save(sess,data_folder+save_folder[1]+model_file(epoch+1))\n",
    "    print(\"Model saved in file: %s\" % data_folder+save_folder[1]+model_file(epoch+1)) \n",
    "        \n",
    "correct_prediction = tf.equal(tf.argmax(tf.sigmoid(y), 1), tf.argmax(y_, 1))\n",
    "accuracy = tf.reduce_mean(tf.cast(correct_prediction, tf.float32))\n",
    "print('Test Accuracy: ',sess.run(accuracy, feed_dict={x: configs_test, y_: labels_test}))        \n",
    "        \n",
    "   \n",
    "    \n",
    "# save arrays with accuracy and error data\n",
    "np.savez_compressed(data_folder+save_folder[0]+'{}epochs_train_acc'.format(num_epochs), a=train_acc)\n",
    "np.savez_compressed(data_folder+save_folder[0]+'{}epochs_test_acc'.format(num_epochs), a=test_acc)\n",
    "np.savez_compressed(data_folder+save_folder[0]+'{}epochs_err_list'.format(num_epochs), a=err_list)\n"
   ]
  },
  {
   "cell_type": "markdown",
   "metadata": {},
   "source": [
    "# Plot Information Plane"
   ]
  },
  {
   "cell_type": "code",
   "execution_count": 59,
   "metadata": {},
   "outputs": [
    {
     "name": "stdout",
     "output_type": "stream",
     "text": [
      "INFO:tensorflow:Restoring parameters from toy_dataset/model_data/session_data/toy_network_model_1.ckpt\n",
      "Model restored.\n"
     ]
    },
    {
     "data": {
      "image/png": "[encoded data removed]",
      "text/plain": [
       "<matplotlib.figure.Figure at 0x21c38274d30>"
      ]
     },
     "metadata": {},
     "output_type": "display_data"
    }
   ],
   "source": [
    "for epoch in range(num_epochs):\n",
    "    # Import each epoch session file\n",
    "    saver.restore(sess,data_folder+save_folder[1]+model_file(epoch+1))\n",
    "    print(\"Model restored.\")\n",
    "\n",
    "    # Perform MI calculation [I(X,T), I(Y,T)] for each layer, once per epoch\n",
    "\n",
    "    for i,layer_out in enumerate(out):\n",
    "        I[i,:,epoch] = m.mut_info(layer_out.eval(feed_dict={x: configs}))\n",
    "        plt.scatter(I[i,0,epoch],I[i,1,epoch],label='Layer: '+str(i),c=np.random.rand(3,1))\n",
    "    plt.legend(loc=2,numpoints=1)\n",
    "    plt.show()"
   ]
  },
  {
   "cell_type": "code",
   "execution_count": 52,
   "metadata": {},
   "outputs": [
    {
     "data": {
      "text/plain": [
       "'toy_network_model_3.toy_network_model'"
      ]
     },
     "execution_count": 52,
     "metadata": {},
     "output_type": "execute_result"
    }
   ],
   "source": [
    "epoch_sess_file = lambda i: model_file.split('.')[0]+'_'+'{}'.format(i)+'.'+model_file.split('.')[0]\n",
    "epoch_sess_file(3)"
   ]
  },
  {
   "cell_type": "markdown",
   "metadata": {},
   "source": [
    "# Mutual Information Part"
   ]
  },
  {
   "cell_type": "code",
   "execution_count": 6,
   "metadata": {
    "collapsed": true
   },
   "outputs": [],
   "source": [
    "# Calculate Mutual Information for Neural Network Input X, Output Y, Layers T\n",
    "\n",
    "import numpy as np\n",
    "import matplotlib.pyplot as plt\n",
    "import tensorflow as tf\n",
    "\n",
    "\n",
    "#######  datafolder+ dataset_file[2] = /path_to/\"labels64.npy\"  ###############\n",
    "\n",
    "class MUT_INFO(object):\n",
    "    def __init__(self, n_bins=1000, dataset_file=data_folder+dataset_file[2]):\n",
    "        \n",
    "        # Initialize Mutual Information Class for given dataset\n",
    "        # mut_info method will be called with layer output array:\n",
    "        #     t = (Nx by n_t) array, where Nx is the number of datasets, and n_t is the number of neurons in the layer\n",
    "        \n",
    "        # Define bin size\n",
    "        self.n_bins = n_bins\n",
    "        \n",
    "        # Calculate global p(x,y), p(x), |X|\n",
    "        self.dataset_file = dataset_file\n",
    "        self.prob_joint_X_binaryY()\n",
    "        \n",
    "        return\n",
    "    \n",
    "    \n",
    "    def mut_info(self,t):\n",
    "        # Estimate Mutual Information of between \n",
    "        # Random Variables (X,Y,T):   I(X,T) and I(Y,T)\n",
    "        \n",
    "        # Probability of p(t(x)) and delta(t(x),t(x'))\n",
    "        p_tx,delta_tx = self.prob_t_x(t,n_bins=self.n_bins)      \n",
    "        \n",
    "        # Calculate Mutual Information of I(T,Y)\n",
    "        # p_xy: (Ny(=2 for binary) by Nx) array,    p_tx = (Nx by 1) array,   \n",
    "        # delta_tx = (Nx by Nx) array,  p_x = (Nx by 1) array\n",
    "   \n",
    "        I_TY = np.nansum(self.p_xy*\n",
    "                         np.log2(np.dot(self.p_xy,delta_tx)/\n",
    "                         np.sum(self.p_xy,1)[:,np.newaxis]/p_tx))\n",
    "    \n",
    "        I_TX = -np.dot(self.p_x,np.log2(p_tx))\n",
    "        \n",
    "        return [I_TX, I_TY]\n",
    "    \n",
    "        \n",
    "    def prob_joint_X_binaryY(self):\n",
    "    \n",
    "        def py_x(u,gamma=30.5,theta=34):\n",
    "            return 1.0/(1.0 + np.exp(-gamma*(u-theta)))\n",
    "\n",
    "        # Import Original X Data and calculate size of \n",
    "        X = np.load(self.dataset_file).astype(np.float)\n",
    "        \n",
    "        # Define Probability Space NX\n",
    "        self.NX = np.size(X)\n",
    "        \n",
    "        # Calculate p(x) and p(x,y)\n",
    "        self.p_x = np.ones(self.NX)*1/self.NX\n",
    "        \n",
    "        self.p_xy = np.array([(1-py_x(X))*self.p_x,\n",
    "                                  py_x(X)*self.p_x])\n",
    "        \n",
    "        return \n",
    "    \n",
    "\n",
    "    def prob_t_x(self,t, n_bins): # Thanks Lauren!\n",
    "        # Takes the layer's output t(x) and a number of bins\n",
    "        # Returns a probability p(t(x)) \n",
    "        # as a vector and a matrix for KroneckerDelta(t(x), t(x'))\n",
    "\n",
    "        # Define bins\n",
    "        bins = np.linspace(-1, 1, n_bins)\n",
    "        \n",
    "        # Count number of appearance of each vector\n",
    "        _, indices, counts= np.unique(np.digitize(t, bins), \n",
    "                                return_inverse=True, \n",
    "                                return_counts=True, axis=0)\n",
    "        # Create delta matrix from indices\n",
    "        delta = (np.array([indices,] * \n",
    "                          len(indices)).T == indices).astype(np.int)\n",
    "        \n",
    "        # Return p(t_x), delta\n",
    "        return counts[indices]/self.NX, delta"
   ]
  },
  {
   "cell_type": "markdown",
   "metadata": {},
   "source": [
    "# Plot Data Part"
   ]
  },
  {
   "cell_type": "code",
   "execution_count": null,
   "metadata": {
    "collapsed": true
   },
   "outputs": [],
   "source": [
    "%matplotlib inline\n",
    "import matplotlib.pyplot as plt\n",
    "\n",
    "# load the data\n",
    "err_list = np.load('{}epochs_err_list.npz'.format(num_epochs))['a']\n",
    "train_acc = np.load('{}epochs_train_acc.npz'.format(num_epochs))['a']\n",
    "test_acc = np.load('{}epochs_test_acc.npz'.format(num_epochs))['a']\n",
    "\n",
    "plt.figure(figsize=(15,4))\n",
    "plt.subplot(1,3,1)\n",
    "plt.plot(np.arange(num_epochs), err_list, color='r')\n",
    "plt.title('Cross Entropy')\n",
    "plt.ylabel('Cross Entropy')\n",
    "plt.xlabel('Epoch')\n",
    "plt.ylim([0.3, 1.1])\n",
    "\n",
    "\n",
    "plt.subplot(1,3,2)\n",
    "plt.plot(np.arange(num_epochs), train_acc, color='b')\n",
    "plt.title('Training Accuracy')\n",
    "plt.ylabel('Training Accuracy')\n",
    "plt.xlabel('Epoch')\n",
    "plt.ylim([-0.1, 1.1])\n",
    "\n",
    "plt.subplot(1,3,3)\n",
    "plt.plot(np.arange(num_epochs/10), test_acc, color='g')\n",
    "plt.title('Test Accuracy')\n",
    "plt.ylabel('Test Accuracy')\n",
    "plt.xlabel('Epoch/10')\n",
    "plt.ylim([0.3, 1.1])\n",
    "\n",
    "print(\"minibatch size = %d\" %minibatch_size)\n",
    "print(\"number of epoches = %d\" %num_epochs)\n",
    "print(\"test accuracy final epoch = %f\" %test_acc[-1])"
   ]
  }
 ],
 "metadata": {
  "kernelspec": {
   "display_name": "Python [conda root]",
   "language": "python",
   "name": "conda-root-py"
  },
  "language_info": {
   "codemirror_mode": {
    "name": "ipython",
    "version": 3
   },
   "file_extension": ".py",
   "mimetype": "text/x-python",
   "name": "python",
   "nbconvert_exporter": "python",
   "pygments_lexer": "ipython3",
   "version": "3.5.2"
  }
 },
 "nbformat": 4,
 "nbformat_minor": 2
}
